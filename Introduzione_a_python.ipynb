{
 "cells": [
  {
   "cell_type": "code",
   "execution_count": 1,
   "id": "3439e72f",
   "metadata": {},
   "outputs": [
    {
     "name": "stdout",
     "output_type": "stream",
     "text": [
      "inserisci il primo numero:5\n",
      "inserisci il secondo numero:5\n",
      "L'addizione è: 10\n"
     ]
    }
   ],
   "source": [
    "#Addizioni\n",
    "numero1= int(input(\"inserisci il primo numero:\"))\n",
    "numero2= int(input(\"inserisci il secondo numero:\"))\n",
    "Addizione = numero1 + numero2\n",
    "print(\"L'Addizione è:\", Addizione)"
   ]
  },
  {
   "cell_type": "code",
   "execution_count": 3,
   "id": "3f21e069",
   "metadata": {},
   "outputs": [
    {
     "name": "stdout",
     "output_type": "stream",
     "text": [
      "inserisci il primo numero:6\n",
      "inserisci il secondo numero:5\n",
      "La sottrazione è: 1\n"
     ]
    }
   ],
   "source": [
    "#Sottrazioni\n",
    "numero1= int(input(\"inserisci il primo numero:\"))\n",
    "numero2= int(input(\"inserisci il secondo numero:\"))\n",
    "Sottrazione = numero1 - numero2\n",
    "print(\"La Sottrazione è:\", Sottrazione)"
   ]
  },
  {
   "cell_type": "code",
   "execution_count": 4,
   "id": "542e6af2",
   "metadata": {},
   "outputs": [
    {
     "name": "stdout",
     "output_type": "stream",
     "text": [
      "inserisci il primo numero:6\n",
      "inserisci il secondo numero:3\n",
      "La divisione è: 2.0\n"
     ]
    }
   ],
   "source": [
    "#Divisoni\n",
    "numero1= int(input(\"inserisci il primo numero:\"))\n",
    "numero2= int(input(\"inserisci il secondo numero:\"))\n",
    "Divisione = numero1 / numero2\n",
    "print(\"La Divisione è:\", Divisione)"
   ]
  },
  {
   "cell_type": "code",
   "execution_count": 2,
   "id": "f4f5f05b",
   "metadata": {},
   "outputs": [],
   "source": [
    "#Moltiplicazioni\n",
    "numero1= int(input(\"inserisci il primo numero:\"))\n",
    "numero2= int(input(\"inserisci il secondo numero:\"))\n",
    "Moltiplicazione = numero1 * numero2\n",
    "print(\"La Moltiplicazione è:\", Moltiplicazione)"
   ]
  },
  {
   "cell_type": "code",
   "execution_count": 6,
   "id": "42fcf5af",
   "metadata": {},
   "outputs": [
    {
     "name": "stdout",
     "output_type": "stream",
     "text": [
      "inserisci un numero intero positivo: 4\n",
      "il Fattoriale di 4 è: 24\n"
     ]
    }
   ],
   "source": [
    "#Fattoriale\n",
    "n = int(input(\"inserisci un numero intero positivo: \"))\n",
    "Fattoriale = 1\n",
    "\n",
    "for numero in range(1, n + 1):\n",
    "\n",
    "    Fattoriale *=numero\n",
    "print(\"il Fattoriale di\", n, \"è:\", Fattoriale)"
   ]
  },
  {
   "cell_type": "code",
   "execution_count": 7,
   "id": "f3f8aad0",
   "metadata": {},
   "outputs": [
    {
     "name": "stdout",
     "output_type": "stream",
     "text": [
      "Quanti numeri vuoi inserire?3\n",
      "inserisci un numero:2\n",
      "inserisci un numero:6\n",
      "inserisci un numero:8\n",
      "La media dei numeri inseriti è: 5.333333333333333 la lista completa è: [2.0, 6.0, 8.0]\n"
     ]
    }
   ],
   "source": [
    "#Media dei numeri\n",
    "numeri = []\n",
    "\n",
    "n = int(input(\"Quanti numeri vuoi inserire?\"))\n",
    "\n",
    "for i in range (n):\n",
    "    numero = float(input(\"inserisci un numero:\"))\n",
    "    numeri.append(numero)\n",
    "\n",
    "media = sum(numeri) / len(numeri)\n",
    "\n",
    "print(\"La media dei numeri inseriti è:\", media, \"la lista completa è:\", numeri)"
   ]
  },
  {
   "cell_type": "code",
   "execution_count": 8,
   "id": "abcc621a",
   "metadata": {},
   "outputs": [
    {
     "name": "stdout",
     "output_type": "stream",
     "text": [
      "Indovina il numero (1-100): 50\n",
      "Il numero da indovinare è più grande\n",
      "Indovina il numero (1-100): 70\n",
      "Il numero da indovinare è più grande\n",
      "Indovina il numero (1-100): 90\n",
      "il numero è più piccolo.\n",
      "Indovina il numero (1-100): 80\n",
      "il numero è più piccolo.\n",
      "Indovina il numero (1-100): 75\n",
      "Il numero da indovinare è più grande\n",
      "Indovina il numero (1-100): 77\n",
      "Bravo! Hai indovinato il numero 77 in 6 tentativi.\n"
     ]
    }
   ],
   "source": [
    "#Gioco dell'indovinello\n",
    "import random\n",
    "\n",
    "numero_da_indovinare = random.randint(1, 100)\n",
    "tentativi = 0 \n",
    "\n",
    "while True:\n",
    "    tentativo = int(input(\"Indovina il numero (1-100): \"))\n",
    "    tentativi += 1\n",
    "\n",
    "    if tentativo == numero_da_indovinare:\n",
    "        print(\"Bravo! Hai indovinato il numero\", numero_da_indovinare, \"in\", tentativi, \"tentativi.\")\n",
    "        break\n",
    "    elif tentativo < numero_da_indovinare:\n",
    "        print (\"Il numero da indovinare è più grande\")\n",
    "    else:\n",
    "        print(\"il numero è più piccolo.\")"
   ]
  },
  {
   "cell_type": "code",
   "execution_count": 9,
   "id": "06f28790",
   "metadata": {},
   "outputs": [
    {
     "name": "stdout",
     "output_type": "stream",
     "text": [
      "Benvenuti al Gioco della morra cinese!\n",
      "Segli la tua mossa (carta, forbici, sasso):carta\n",
      "Il computer ha scelto: forbici\n",
      "Hai perso!\n"
     ]
    }
   ],
   "source": [
    "#Gioco della morra cinese\n",
    "import random\n",
    "\n",
    "mosse = [\"carta\",\"forbici\",\"sasso\"]\n",
    "\n",
    "computer_mossa = random.choice(mosse)\n",
    "\n",
    "print(\"Benvenuti al Gioco della morra cinese!\")\n",
    "scelta_giocatore = input(\"Segli la tua mossa (carta, forbici, sasso):\")\n",
    "\n",
    "if scelta_giocatore not in mosse:\n",
    "    print(\"mossa non permessa\")\n",
    "else:\n",
    "    print(\"Il computer ha scelto:\", computer_mossa)\n",
    "    if scelta_giocatore == computer_mossa:\n",
    "        print(\"Pareggio!\")\n",
    "    elif (scelta_giocatore == \"carta\" and computer_mossa == \"sasso\") or\\\n",
    "            (scelta_giocatore == \"forbici\" and computer_mossa == \"carta\") or\\\n",
    "                (scelta_giocatore == \"sasso\" and computer_mossa == \"forbici\"):\n",
    "          print(\"Hai vinto!\")\n",
    "    else:\n",
    "          print(\"Hai perso!\")"
   ]
  },
  {
   "cell_type": "code",
   "execution_count": 10,
   "id": "e69bff50",
   "metadata": {},
   "outputs": [
    {
     "name": "stdout",
     "output_type": "stream",
     "text": [
      "Inserisci un numero intero:4\n",
      "il fattoriale di 4 è 24\n"
     ]
    }
   ],
   "source": [
    "#Fattoriale.2\n",
    "numero=int(input(\"Inserisci un numero intero:\"))\n",
    "\n",
    "fattoriale=1\n",
    "\n",
    "if fattoriale<0:\n",
    "    print(\"numero negativo\")\n",
    "elif fattoriale==0:\n",
    "    print(\"il fattoriale di zero è 1\")\n",
    "else:\n",
    "    for numero in range(1, numero+1):\n",
    "        fattoriale*=numero\n",
    "print(f\"il fattoriale di {numero} è {fattoriale}\")"
   ]
  },
  {
   "cell_type": "code",
   "execution_count": 11,
   "id": "f0a267e4",
   "metadata": {},
   "outputs": [
    {
     "name": "stdout",
     "output_type": "stream",
     "text": [
      "quanti numero vuoi inserire?3\n",
      "inserisci un numero:5\n",
      "inserisci un numero:10\n",
      "inserisci un numero:15\n",
      "La media del numeri inseriti è 10.0 La lista completa dei numeri è [5.0, 10.0, 15.0]\n"
     ]
    }
   ],
   "source": [
    "#Media dei numeri.2\n",
    "numeri= []\n",
    "n= int(input(\"quanti numerI vuoi inserire?\"))\n",
    "for i in range (n):\n",
    "  numero = float(input(\"inserisci un numero:\"))\n",
    "  numeri.append(numero)\n",
    "media = sum(numeri)/len(numeri)\n",
    "print(\"La media del numeri inseriti è\", media, \"La lista completa dei numeri è\", numeri)"
   ]
  },
  {
   "cell_type": "code",
   "execution_count": 48,
   "id": "d829db61",
   "metadata": {},
   "outputs": [
    {
     "name": "stdout",
     "output_type": "stream",
     "text": [
      "inserisci un numero intero positivo di N:5\n",
      "la somma dei primi 5 numeri è pari è 30\n"
     ]
    }
   ],
   "source": [
    "#Somma di tutte le cifre di un numero\n",
    "N = int(input(\"inserisci un numero intero positivo di N:\"))\n",
    "\n",
    "somma = 0\n",
    "\n",
    "for numero in range (2, 2 * N + 1, 2):\n",
    "    somma += numero\n",
    "print (f\"la somma dei primi {N} numeri è pari è {somma}\")"
   ]
  },
  {
   "cell_type": "code",
   "execution_count": 49,
   "id": "19d6dfa2",
   "metadata": {},
   "outputs": [
    {
     "name": "stdout",
     "output_type": "stream",
     "text": [
      "inserisci un numero intero positivo N:5\n",
      "[2, 4, 6, 8, 10]\n"
     ]
    }
   ],
   "source": [
    "#Comando append\n",
    "N = int(input(\"inserisci un numero intero positivo N:\"))\n",
    "lista = []\n",
    "\n",
    "for numero in range(2,2 * N + 1,2):\n",
    "    lista.append(numero)\n",
    "\n",
    "print (lista)"
   ]
  },
  {
   "cell_type": "code",
   "execution_count": 50,
   "id": "45310e3a",
   "metadata": {},
   "outputs": [
    {
     "name": "stdout",
     "output_type": "stream",
     "text": [
      "inserisci un numero intero positivo:5\n",
      "Quadrati dei primi 5 numeri\n",
      "il quadrato di 5 è 25\n"
     ]
    }
   ],
   "source": [
    "#Quadrato di un numero\n",
    "n = int(input(\"inserisci un numero intero positivo:\"))\n",
    "print(\"Quadrati dei primi\",n,\"numeri\")\n",
    "for numero in range (1,n+1):\n",
    "    quadrato = numero **2\n",
    "print(\"il quadrato di\", n, \"è\", quadrato)"
   ]
  },
  {
   "cell_type": "code",
   "execution_count": 51,
   "id": "8e9e05d2",
   "metadata": {},
   "outputs": [
    {
     "name": "stdout",
     "output_type": "stream",
     "text": [
      "inserisci una frase o una parola:CiaoOO\n",
      "nella frase inserita ci sono 5 vocali.\n"
     ]
    }
   ],
   "source": [
    "#Conteggio vocali\n",
    "frase = input(\"inserisci una frase o una parola:\").lower()#per ridurre tutte le lettere minuscole\n",
    "\n",
    "conteggio_vocali = 0\n",
    "\n",
    "vocali = \"aeiou\"\n",
    "\n",
    "for carattere in frase:\n",
    "    if carattere in vocali:\n",
    "        conteggio_vocali += 1\n",
    "\n",
    "print(f\"nella frase inserita ci sono {conteggio_vocali} vocali.\")\n",
    "#per ogni vocale somma uno al conteggio"
   ]
  },
  {
   "cell_type": "code",
   "execution_count": null,
   "id": "b376ac02",
   "metadata": {},
   "outputs": [],
   "source": [
    "#Comando for in range\n",
    "for numero in range (3):\n",
    "    print(numero)"
   ]
  },
  {
   "cell_type": "code",
   "execution_count": 53,
   "id": "fc502092",
   "metadata": {},
   "outputs": [
    {
     "name": "stdout",
     "output_type": "stream",
     "text": [
      "inserisci l'operazione(+,-,*,/):*\n",
      "inserisci il primo numero3\n",
      "inserisci il secondo numero3\n",
      "il risultato è, 9.0\n"
     ]
    }
   ],
   "source": [
    "#Tutti i segni d'operazione in un codice\n",
    "operazione= input(\"inserisci l'operazione(+,-,*,/):\")\n",
    "numero1=float(input(\"inserisci il primo numero\"))\n",
    "numero2=float(input(\"inserisci il secondo numero\"))\n",
    "if operazione== \"+\":\n",
    "    risultato=numero1+numero2\n",
    "elif operazione== \"-\":\n",
    "    risultato=numero1-numero2\n",
    "elif operazione==\"*\":\n",
    "    risultato=numero1*numero2\n",
    "elif operazione== \"/\":\n",
    "    risultato = numero1/numero2\n",
    "else:\n",
    "    risultato = \"operazione non valida\"\n",
    "print(\"il risultato è,\", risultato)"
   ]
  },
  {
   "cell_type": "code",
   "execution_count": 55,
   "id": "862faf95",
   "metadata": {},
   "outputs": [
    {
     "name": "stdout",
     "output_type": "stream",
     "text": [
      "indovina il numero del dado (da 1 a 6:)2\n",
      "mi dispiace, il numero del dado era 3. meglio fortuna alla prossima!\n"
     ]
    }
   ],
   "source": [
    "#Gioco del dado\n",
    "import random\n",
    "\n",
    "numero_dado = random.randint(1,6)\n",
    "\n",
    "indovina = int(input(\"indovina il numero del dado (da 1 a 6:)\"))\n",
    "\n",
    "if indovina <1 or indovina >6:\n",
    "    print(\"numero non ammesso\")\n",
    "elif indovina == numero_dado:\n",
    "    print(f\"complimento il numero del dado era {numero_dado}. hai indovinato!\")\n",
    "else:\n",
    "    print(f\"mi dispiace, il numero del dado era {numero_dado}. meglio fortuna alla prossima!\")"
   ]
  },
  {
   "cell_type": "code",
   "execution_count": 56,
   "id": "6b4f265c",
   "metadata": {},
   "outputs": [
    {
     "name": "stdout",
     "output_type": "stream",
     "text": [
      "inserire popolazione iniziale:5000\n",
      "inserire numero di anni da simulare:30\n",
      "inserire tasso di natalità:3.7\n",
      "inserire tasso di mortalità:2.8\n",
      "anno 1: popolazione = 5045\n",
      "anno 2: popolazione = 5090\n",
      "anno 3: popolazione = 5136\n",
      "anno 4: popolazione = 5182\n",
      "anno 5: popolazione = 5229\n",
      "anno 6: popolazione = 5276\n",
      "anno 7: popolazione = 5323\n",
      "anno 8: popolazione = 5371\n",
      "anno 9: popolazione = 5419\n",
      "anno 10: popolazione = 5468\n",
      "anno 11: popolazione = 5517\n",
      "anno 12: popolazione = 5567\n",
      "anno 13: popolazione = 5617\n",
      "anno 14: popolazione = 5668\n",
      "anno 15: popolazione = 5719\n",
      "anno 16: popolazione = 5770\n",
      "anno 17: popolazione = 5822\n",
      "anno 18: popolazione = 5875\n",
      "anno 19: popolazione = 5927\n",
      "anno 20: popolazione = 5981\n",
      "anno 21: popolazione = 6035\n",
      "anno 22: popolazione = 6089\n",
      "anno 23: popolazione = 6144\n",
      "anno 24: popolazione = 6199\n",
      "anno 25: popolazione = 6255\n",
      "anno 26: popolazione = 6311\n",
      "anno 27: popolazione = 6368\n",
      "anno 28: popolazione = 6425\n",
      "anno 29: popolazione = 6483\n",
      "anno 30: popolazione = 6541\n",
      "simulazione completata\n"
     ]
    }
   ],
   "source": [
    "#Conteggio della popolazione\n",
    "popolazione = int(input(\"inserire popolazione iniziale:\"))\n",
    "anni = int(input(\"inserire numero di anni da simulare:\"))\n",
    "\n",
    "tasso_natalità = float(input(\"inserire tasso di natalità:\"))\n",
    "tasso_mortalità = float(input(\"inserire tasso di mortalità:\"))\n",
    "\n",
    "for anno in range(anni):\n",
    "    nascite = (popolazione * tasso_natalità) / 100\n",
    "    morti = (popolazione * tasso_mortalità) / 100\n",
    "    popolazione += (nascite - morti)\n",
    "\n",
    "    print(f\"anno {anno+1}: popolazione = {int(popolazione)}\")\n",
    "print(\"simulazione completata\")"
   ]
  },
  {
   "cell_type": "code",
   "execution_count": 57,
   "id": "76596c26",
   "metadata": {},
   "outputs": [
    {
     "name": "stdout",
     "output_type": "stream",
     "text": [
      "oggi è il giorno: 08 11 2023 ore: 18 05 42\n"
     ]
    }
   ],
   "source": [
    "#Comando sulla data d'oggi\n",
    "import datetime\n",
    "\n",
    "today= datetime.datetime.today()\n",
    "print(f\"oggi è il giorno: {today:%d %m %Y} ore: {today:%H %M %S}\")"
   ]
  },
  {
   "cell_type": "code",
   "execution_count": 60,
   "id": "419d9799",
   "metadata": {},
   "outputs": [
    {
     "name": "stdout",
     "output_type": "stream",
     "text": [
      "benvenuto nel convertitore di unità di misura!\n",
      "cosa desideri convertire?(metri/piedi/chilogrammi/libbre):piedi\n",
      "inserisci il valore in piedi:66\n",
      "66.0 piedi corrispondono a 216.53544 chilogrami\n",
      "scelta non valida sceltri tra 'metri', 'piedi', 'chilogrammi', o 'libbre'\n"
     ]
    }
   ],
   "source": [
    "#Convertitore di unità di misure\n",
    "print(\"benvenuto nel convertitore di unità di misura!\")\n",
    "scelta = input(\"cosa desideri convertire?(metri/piedi/chilogrammi/libbre):\").lower()\n",
    "\n",
    "if scelta == \"metri\":\n",
    "    valore = float(input(\"inserisci il valore in metri:\"))\n",
    "    risultato = valore * 3.28084\n",
    "    print(f\"{valore} metri corrispondono a {risultato} piedi\")\n",
    "if scelta == \"piedi\":\n",
    "    valore = float(input(\"inserisci il valore in piedi:\"))\n",
    "    risultato = valore * 3.28084\n",
    "    print(f\"{valore} piedi corrispondono a {risultato} chilogrami\")\n",
    "if scelta == \"chilogrammi\":\n",
    "    valore = float(input(\"inserisci il valore in chilogrammi:\"))\n",
    "    risultato = valore * 2.20462\n",
    "    print(f\"{valore}chilogrammi corrispondono a {risultato} libbre\")\n",
    "if scelta == \"libbre\":\n",
    "    valore = float(input(\"inserisci il valore in libbre:\"))\n",
    "    risultato = valore * 3.28084\n",
    "    print(f\"{valore} libbre corrispondono a {risultato} chilogrammi\")\n",
    "else:\n",
    "    print(\"scelta non valida sceltri tra 'metri', 'piedi', 'chilogrammi', o 'libbre'\")"
   ]
  },
  {
   "cell_type": "code",
   "execution_count": 61,
   "id": "e8c9d092",
   "metadata": {},
   "outputs": [
    {
     "name": "stdout",
     "output_type": "stream",
     "text": [
      "inserisci un numero n per calcolare l'n'esimo numero di fibonaccio5\n",
      "l'n-esimo numero di fibonacci è: 3\n"
     ]
    }
   ],
   "source": [
    "#Calcolo numero di fibonacci\n",
    "n = int(input(\"inserisci un numero n per calcolare l'n'esimo numero di fibonaccio\"))\n",
    "\n",
    "a=0\n",
    "b=1\n",
    "c=1\n",
    "\n",
    "if n <= 0:\n",
    "    print(\"il numero deve essere maggiore di zero.\")\n",
    "elif n == 1:\n",
    "    risultato = a\n",
    "else:\n",
    "    for iterazione in range(n-3): \n",
    "       a = b\n",
    "       b = c\n",
    "       c = a + b\n",
    "    risultato = c\n",
    "print(\"l'n-esimo numero di fibonacci è:\", risultato)"
   ]
  },
  {
   "cell_type": "code",
   "execution_count": 62,
   "id": "868fb6e1",
   "metadata": {},
   "outputs": [],
   "source": [
    "#Calcolo numero di fibonacci.2\n",
    "def fibonacci(n):\n",
    "    fib_series = [0, 1]\n",
    "\n",
    "    while len(fib_series) < n:\n",
    "        fib_series.append(fib_series[-1]+ fib_series[-2])\n",
    "\n",
    "    return fib_series"
   ]
  },
  {
   "cell_type": "code",
   "execution_count": 64,
   "id": "1e868617",
   "metadata": {},
   "outputs": [
    {
     "data": {
      "text/plain": [
       "[0, 1, 1, 2, 3]"
      ]
     },
     "execution_count": 64,
     "metadata": {},
     "output_type": "execute_result"
    }
   ],
   "source": [
    "fibonacci(5)"
   ]
  },
  {
   "cell_type": "code",
   "execution_count": 65,
   "id": "6b4bf430",
   "metadata": {},
   "outputs": [
    {
     "name": "stdout",
     "output_type": "stream",
     "text": [
      "inserisci il numero di termini della serie di fbonacci5\n",
      "[0, 1, 1, 2, 3]\n"
     ]
    }
   ],
   "source": [
    "#Calcolo numero di fibonacci.3\n",
    "n = int(input(\"inserisci il numero di termini della serie di fbonacci\"))\n",
    "\n",
    "if n <= 0:\n",
    "    print(\"inserisci un numero positivo\")\n",
    "else:\n",
    "    result = fibonacci(n)\n",
    "    print(result)"
   ]
  },
  {
   "cell_type": "code",
   "execution_count": 66,
   "id": "65441e46",
   "metadata": {},
   "outputs": [],
   "source": [
    "#Calcolo d'aree\n",
    "import math\n",
    "def calcola_area_cerchio(raggio):\n",
    "    return math.pi * (raggio** 2)\n",
    "\n",
    "def calcola_area_rettangolo(base,altezza):\n",
    "    return(base * altezza)\n",
    "\n",
    "def calcola_area_triangolo(base,altezza):\n",
    "    return(base * altezza) / 2"
   ]
  },
  {
   "cell_type": "code",
   "execution_count": 67,
   "id": "7e237a85",
   "metadata": {},
   "outputs": [
    {
     "name": "stdout",
     "output_type": "stream",
     "text": [
      "benvenuti nella calcolatrice delle aree\n",
      "vuoi calcolare l'area di un cerchio(c), rettangolo(r) o triangolo(t)c\n",
      "inserisci il raggio del cerchio:20\n",
      "l'area del cerchio è 1256.64\n",
      "scelta non valida. si prega di inserire 'c', 'r' o 't'.\n"
     ]
    }
   ],
   "source": [
    "print(\"benvenuti nella calcolatrice delle aree\")\n",
    "\n",
    "scelta = input(\"vuoi calcolare l'area di un cerchio(c), rettangolo(r) o triangolo(t)\").lower()\n",
    "\n",
    "if scelta == 'c':\n",
    "    raggio = float(input(\"inserisci il raggio del cerchio:\"))\n",
    "    area = calcola_area_cerchio(raggio)\n",
    "    print(f\"l'area del cerchio è {area:.2f}\")\n",
    "if scelta == 'r':\n",
    "    base = float(input(\"inserisci la base del rettangolo:\"))\n",
    "    area = calcola_area_rettangolo(base,altezza)\n",
    "    print(f\"l'area del rettangolo è {area:.2f}\")\n",
    "if scelta == 't':\n",
    "    base = float(input(\"inserisci la base del triangolo:\"))\n",
    "    area = calcola_area_triangolo(base,altezza)\n",
    "    print(f\"l'area del triangolo è{area:.2f}\")\n",
    "else:\n",
    "    print(\"scelta non valida. si prega di inserire 'c', 'r' o 't'.\")"
   ]
  },
  {
   "cell_type": "code",
   "execution_count": 68,
   "id": "32156894",
   "metadata": {},
   "outputs": [
    {
     "name": "stdout",
     "output_type": "stream",
     "text": [
      "inserisci un numero:2\n",
      "il numero non è presente nella lista\n"
     ]
    }
   ],
   "source": [
    "#Liste\n",
    "lista=[15,66,78]\n",
    "x=int(input(\"inserisci un numero:\"))\n",
    "if x in lista:\n",
    "    print(\"numero è presente nella lista\")\n",
    "else:\n",
    "    print(\"il numero non è presente nella lista\")"
   ]
  },
  {
   "cell_type": "code",
   "execution_count": null,
   "id": "07a7c9e7",
   "metadata": {},
   "outputs": [],
   "source": [
    "#Liste.2\n",
    "prodotti={}\n",
    "prodotti[\"pan bauletto\"]=2\n",
    "prodotti[\"coca cola\"]=3"
   ]
  },
  {
   "cell_type": "code",
   "execution_count": null,
   "id": "50318248",
   "metadata": {},
   "outputs": [],
   "source": [
    "#Comando datetime\n",
    "from datetime import datetime\n",
    "import pytz\n",
    "\n",
    "print(\"Benvenuto nell'orologio mondiale\")\n",
    "\n",
    "citta_fusi_orari = {\n",
    "\"New york\": \"America/New_York\",\n",
    "    \"Londra\": \"Europe/London\",\n",
    "    \"Tokyo\": \"Asia/Tokyo\",\n",
    "    \"Sydney\": \"Australia/Sydney\",\n",
    "    \"Rio de Janeiro\": \"America/Sao_Paulo\"\n",
    " }\n",
    "while True:\n",
    "    print(\"/nCittà disponibili:\")\n",
    "    for citta in citta_fusi_orari.keys():\n",
    "        print(citta)\n",
    "\n",
    "scelta_citta = input(\"inserisci il nome della citta per visualizzare l'ora (o 'esci'per uscire):\").strip()\n",
    "if scelta_citta.lower() == 'esci':\n",
    "    break\n",
    "\n",
    "if scelta_citta in citta_fusi_orari.keys():\n",
    "    fuso_orario = pytz.timezone(citta_fusi_orari[scelta_citta])\n",
    "    ora_corrente = datetime.now(fuso_orario)\n",
    "    print(f\"l'ora corrente a {scelta_citta} è: {ora_corrente.strftime('%H:%M:%S')}\")\n",
    "else:\n",
    "    print(\"città non valida.\")"
   ]
  },
  {
   "cell_type": "code",
   "execution_count": 72,
   "id": "4da5a9e8",
   "metadata": {},
   "outputs": [],
   "source": [
    "def paolo():\n",
    "    print(\"mi chiamo\")"
   ]
  },
  {
   "cell_type": "code",
   "execution_count": 87,
   "id": "f14e48eb",
   "metadata": {},
   "outputs": [
    {
     "name": "stdout",
     "output_type": "stream",
     "text": [
      "mi chiamo\n"
     ]
    }
   ],
   "source": [
    "if __name__==\"__main__\":\n",
    "    paolo()"
   ]
  },
  {
   "cell_type": "code",
   "execution_count": 89,
   "id": "64590b15",
   "metadata": {},
   "outputs": [
    {
     "ename": "SyntaxError",
     "evalue": "invalid syntax (439047729.py, line 6)",
     "output_type": "error",
     "traceback": [
      "\u001b[1;36m  Cell \u001b[1;32mIn[89], line 6\u001b[1;36m\u001b[0m\n\u001b[1;33m    elif 19<=bmi <24:\u001b[0m\n\u001b[1;37m    ^\u001b[0m\n\u001b[1;31mSyntaxError\u001b[0m\u001b[1;31m:\u001b[0m invalid syntax\n"
     ]
    }
   ],
   "source": [
    "def calcola_bmi(peso,altezza):\n",
    "    return peso/(altezza**2)\n",
    "def valuta_bmi(bmi):\n",
    "    if bmi<=18.5:\n",
    "        return\"sottopeso\"\n",
    "elif 19<=bmi <24:\n",
    "    return\"normopeso\"\n",
    "elif 25<= bmi <29.9:\n",
    "    return\"sovrappeso\"\n",
    "else:\n",
    "    return\"obeso\""
   ]
  },
  {
   "cell_type": "code",
   "execution_count": 92,
   "id": "d2f37857",
   "metadata": {},
   "outputs": [
    {
     "ename": "KeyboardInterrupt",
     "evalue": "Interrupted by user",
     "output_type": "error",
     "traceback": [
      "\u001b[1;31m---------------------------------------------------------------------------\u001b[0m",
      "\u001b[1;31mKeyboardInterrupt\u001b[0m                         Traceback (most recent call last)",
      "Cell \u001b[1;32mIn[92], line 14\u001b[0m\n\u001b[0;32m     11\u001b[0m         \u001b[38;5;28mprint\u001b[39m(\u001b[38;5;124mf\u001b[39m\u001b[38;5;124m\"\u001b[39m\u001b[38;5;124mil tuo bmi è \u001b[39m\u001b[38;5;132;01m{\u001b[39;00mbmi\u001b[38;5;132;01m:\u001b[39;00m\u001b[38;5;124m.2f\u001b[39m\u001b[38;5;132;01m}\u001b[39;00m\u001b[38;5;124m,sei calssificato come \u001b[39m\u001b[38;5;124m'\u001b[39m\u001b[38;5;132;01m{\u001b[39;00mvalutazione\u001b[38;5;132;01m}\u001b[39;00m\u001b[38;5;124m'\u001b[39m\u001b[38;5;124m\"\u001b[39m)\n\u001b[0;32m     13\u001b[0m \u001b[38;5;28;01mif\u001b[39;00m \u001b[38;5;18m__name__\u001b[39m \u001b[38;5;241m==\u001b[39m \u001b[38;5;124m\"\u001b[39m\u001b[38;5;124m__main__\u001b[39m\u001b[38;5;124m\"\u001b[39m:\n\u001b[1;32m---> 14\u001b[0m     main()\n",
      "Cell \u001b[1;32mIn[92], line 2\u001b[0m, in \u001b[0;36mmain\u001b[1;34m()\u001b[0m\n\u001b[0;32m      1\u001b[0m \u001b[38;5;28;01mdef\u001b[39;00m \u001b[38;5;21mmain\u001b[39m():\n\u001b[1;32m----> 2\u001b[0m     n\u001b[38;5;241m=\u001b[39m\u001b[38;5;28mint\u001b[39m(\u001b[38;5;28minput\u001b[39m(\u001b[38;5;124m\"\u001b[39m\u001b[38;5;124minserisci un numero di persone da valutare:\u001b[39m\u001b[38;5;124m\"\u001b[39m))\n\u001b[0;32m      3\u001b[0m     \u001b[38;5;28;01mfor\u001b[39;00m persone \u001b[38;5;129;01min\u001b[39;00m \u001b[38;5;28mrange\u001b[39m(n):\n\u001b[0;32m      4\u001b[0m         \u001b[38;5;28mprint\u001b[39m(\u001b[38;5;124m\"\u001b[39m\u001b[38;5;124mBenvenuto nella calcolatrice bmi\u001b[39m\u001b[38;5;124m\"\u001b[39m)\n",
      "File \u001b[1;32m~\\anaconda3\\Lib\\site-packages\\ipykernel\\kernelbase.py:1202\u001b[0m, in \u001b[0;36mKernel.raw_input\u001b[1;34m(self, prompt)\u001b[0m\n\u001b[0;32m   1200\u001b[0m     msg \u001b[38;5;241m=\u001b[39m \u001b[38;5;124m\"\u001b[39m\u001b[38;5;124mraw_input was called, but this frontend does not support input requests.\u001b[39m\u001b[38;5;124m\"\u001b[39m\n\u001b[0;32m   1201\u001b[0m     \u001b[38;5;28;01mraise\u001b[39;00m StdinNotImplementedError(msg)\n\u001b[1;32m-> 1202\u001b[0m \u001b[38;5;28;01mreturn\u001b[39;00m \u001b[38;5;28mself\u001b[39m\u001b[38;5;241m.\u001b[39m_input_request(\n\u001b[0;32m   1203\u001b[0m     \u001b[38;5;28mstr\u001b[39m(prompt),\n\u001b[0;32m   1204\u001b[0m     \u001b[38;5;28mself\u001b[39m\u001b[38;5;241m.\u001b[39m_parent_ident[\u001b[38;5;124m\"\u001b[39m\u001b[38;5;124mshell\u001b[39m\u001b[38;5;124m\"\u001b[39m],\n\u001b[0;32m   1205\u001b[0m     \u001b[38;5;28mself\u001b[39m\u001b[38;5;241m.\u001b[39mget_parent(\u001b[38;5;124m\"\u001b[39m\u001b[38;5;124mshell\u001b[39m\u001b[38;5;124m\"\u001b[39m),\n\u001b[0;32m   1206\u001b[0m     password\u001b[38;5;241m=\u001b[39m\u001b[38;5;28;01mFalse\u001b[39;00m,\n\u001b[0;32m   1207\u001b[0m )\n",
      "File \u001b[1;32m~\\anaconda3\\Lib\\site-packages\\ipykernel\\kernelbase.py:1245\u001b[0m, in \u001b[0;36mKernel._input_request\u001b[1;34m(self, prompt, ident, parent, password)\u001b[0m\n\u001b[0;32m   1242\u001b[0m \u001b[38;5;28;01mexcept\u001b[39;00m \u001b[38;5;167;01mKeyboardInterrupt\u001b[39;00m:\n\u001b[0;32m   1243\u001b[0m     \u001b[38;5;66;03m# re-raise KeyboardInterrupt, to truncate traceback\u001b[39;00m\n\u001b[0;32m   1244\u001b[0m     msg \u001b[38;5;241m=\u001b[39m \u001b[38;5;124m\"\u001b[39m\u001b[38;5;124mInterrupted by user\u001b[39m\u001b[38;5;124m\"\u001b[39m\n\u001b[1;32m-> 1245\u001b[0m     \u001b[38;5;28;01mraise\u001b[39;00m \u001b[38;5;167;01mKeyboardInterrupt\u001b[39;00m(msg) \u001b[38;5;28;01mfrom\u001b[39;00m \u001b[38;5;28;01mNone\u001b[39;00m\n\u001b[0;32m   1246\u001b[0m \u001b[38;5;28;01mexcept\u001b[39;00m \u001b[38;5;167;01mException\u001b[39;00m:\n\u001b[0;32m   1247\u001b[0m     \u001b[38;5;28mself\u001b[39m\u001b[38;5;241m.\u001b[39mlog\u001b[38;5;241m.\u001b[39mwarning(\u001b[38;5;124m\"\u001b[39m\u001b[38;5;124mInvalid Message:\u001b[39m\u001b[38;5;124m\"\u001b[39m, exc_info\u001b[38;5;241m=\u001b[39m\u001b[38;5;28;01mTrue\u001b[39;00m)\n",
      "\u001b[1;31mKeyboardInterrupt\u001b[0m: Interrupted by user"
     ]
    }
   ],
   "source": [
    "def main():\n",
    "    n=int(input(\"inserisci un numero di persone da valutare:\"))\n",
    "    for persone in range(n):\n",
    "        print(\"Benvenuto nella calcolatrice bmi\")\n",
    "        peso = float(input(\"inserisci il tuo peso in chilo grammi:\"))\n",
    "        altezza = float(input(\"inserisci la tua altezza in metri:\"))\n",
    "\n",
    "        bmi = calcola_bmi(peso,altezza)\n",
    "        valutazione = valuta_bmi(bmi)\n",
    "\n",
    "        print(f\"il tuo bmi è {bmi:.2f},sei calssificato come '{valutazione}'\")\n",
    "\n",
    "if __name__ == \"__main__\":\n",
    "    main()"
   ]
  },
  {
   "cell_type": "code",
   "execution_count": null,
   "id": "c4975ff2",
   "metadata": {},
   "outputs": [],
   "source": [
    "def metri_a_piedi(metri):\n",
    "    return metri * 3.28084\n",
    "def piedi_a_metri(piedi):\n",
    "    return piedi / 3.28084\n",
    "def chilogrammi_a_libbre(chilogrammi):\n",
    "    return chilogrammi * 2.20462\n",
    "def libbre_a_chilogrammi(libbre):\n",
    "    return libbre / 2.20462\n",
    "\n",
    "def selezione(scelta):\n",
    "    if scelta == \"metri\":\n",
    "        valore = float(input(\"inserisci il valore in metri:\"))\n",
    "        risultato = metri_a_piedi(valore)\n",
    "        print(f\"{valore: .3f}metri corrispondono a {risultato: .3f}piedi.\")\n",
    "    if scelta == \"piedi\":\n",
    "        valore = float(input(\"inserisci il valore in piedi:\"))\n",
    "        risultato = piedi_a_metri(valore)\n",
    "        print(f\"{valore: .3f}piedi corrispondono a {risultato: .3f}metri.\")\n",
    "    if scelta == \"chilogrammi\":\n",
    "        valore = float(input(\"inserisci il valore in chilogrammi:\"))\n",
    "        risultato = chilogrammi_a_libbre(valore)\n",
    "        print(f\"{valore: .3f}chilogrammi corrispondono a {risultato: .3f}libbre.\")\n",
    "    if scelta == \"libbre\":\n",
    "        valore = float(input(\"inserisci il valore in libbre:\"))\n",
    "        risultato = libbre_a_chilogrammi(valore)\n",
    "        print(f\"{valore: .3f}libbre corrispondono a {risultato: .3f}chilogrammi\")\n",
    "    else:\n",
    "        print(\"sveglia scelta non valida\")\n",
    "\n",
    "    def main():\n",
    "        print(\"Ciao\")\n",
    "        scelta = (\"scegli\").lower()\n",
    "if __name__==\"__main__\":\n",
    "    main()"
   ]
  },
  {
   "cell_type": "code",
   "execution_count": 95,
   "id": "ba9ece8a",
   "metadata": {},
   "outputs": [
    {
     "name": "stdout",
     "output_type": "stream",
     "text": [
      "Menu:\n",
      "\n",
      " 1. aggiungi cibo consumato\n",
      "\n",
      " 2. calcolacalorie totali\n",
      "\n",
      " 3. esci\n",
      "scegli un'opzione1\n",
      "\n",
      "\n",
      "Pizza 285\n",
      "hambuger 250\n",
      "insalata 100\n",
      "pollo arrosto 335\n",
      "yogurt 150\n",
      "inserisci il cibo consumato:insalata\n",
      "inserisci la quantità (in grammi):30\n",
      "Menu:\n",
      "\n",
      " 1. aggiungi cibo consumato\n",
      "\n",
      " 2. calcolacalorie totali\n",
      "\n",
      " 3. esci\n",
      "scegli un'opzione2\n",
      "\n",
      "Calorie totali consumate: 30.0 calore\n",
      "Menu:\n",
      "\n",
      " 1. aggiungi cibo consumato\n",
      "\n",
      " 2. calcolacalorie totali\n",
      "\n",
      " 3. esci\n",
      "scegli un'opzione3\n"
     ]
    }
   ],
   "source": [
    "#Calcolo delle calorie\n",
    "cibo_calorie = {\n",
    "    \"Pizza\": 285,\n",
    "    \"hambuger\": 250,\n",
    "    \"insalata\": 100,\n",
    "    \"pollo arrosto\": 335,\n",
    "    \"yogurt\": 150\n",
    "}\n",
    "\n",
    "def calorie_consumate(cibo, quantita):\n",
    "    if cibo not in cibo_calorie.keys():\n",
    "        print(\"cibo non presente\")\n",
    "    elif cibo in cibo_calorie.keys():\n",
    "        calorie_per_100g = cibo_calorie[cibo]\n",
    "        calorie_totali = (calorie_per_100g / 100) * quantita\n",
    "        return calorie_totali\n",
    "\n",
    "def main():\n",
    "    cibo_consumato = []\n",
    "\n",
    "    while True:\n",
    "        print(\"Menu:\")\n",
    "        print(\"\\n 1. aggiungi cibo consumato\")\n",
    "        print(\"\\n 2. calcolacalorie totali\")\n",
    "        print(\"\\n 3. esci\")\n",
    "\n",
    "        scelta  = input(\"scegli un'opzione\")\n",
    "\n",
    "        if scelta == \"1\":\n",
    "            print(\"\\n\")\n",
    "\n",
    "            for key, value in cibo_calorie.items():\n",
    "                print(key, value)\n",
    "\n",
    "            cibo = input(\"inserisci il cibo consumato:\").lower()\n",
    "            quantita = float(input(\"inserisci la quantità (in grammi):\"))\n",
    "            cibo_consumato.append((cibo, quantita))\n",
    "\n",
    "        elif scelta == \"2\":\n",
    "            calorie_totali = sum(calorie_consumate(c, q)for c, q in cibo_consumato)\n",
    "            print(f\"\\nCalorie totali consumate: {calorie_totali} calore\")\n",
    "        elif scelta == \"3\":\n",
    "            break\n",
    "        else:\n",
    "            print(\"\\nScelta non valida. riprova\")\n",
    "if __name__==\"__main__\":\n",
    "    main()"
   ]
  },
  {
   "cell_type": "code",
   "execution_count": 97,
   "id": "17a0252a",
   "metadata": {},
   "outputs": [],
   "source": [
    "acquistidue={\n",
    "    \"pan bauletto\":10,\n",
    "    \"nutella\":10,\n",
    "}"
   ]
  },
  {
   "cell_type": "code",
   "execution_count": 98,
   "id": "cdceb5bb",
   "metadata": {},
   "outputs": [],
   "source": [
    "acquisti={}\n",
    "acquisti[\"pan bauletto\"]=10\n",
    "acquisti[\"nutella\"]=10"
   ]
  },
  {
   "cell_type": "code",
   "execution_count": 99,
   "id": "446c3827",
   "metadata": {},
   "outputs": [
    {
     "name": "stdout",
     "output_type": "stream",
     "text": [
      "personaggio fantasy generato:\n",
      "specie:elfo\n",
      "classe:ranger\n",
      "arma:ascia\n",
      "abilità: camuffamento,magia dell'acqua,incantesimi di guarigione\n"
     ]
    }
   ],
   "source": [
    "import random\n",
    "\n",
    "speci = [\"elfo\", \"umano\", \"nano\", \"orco\", \"gnomo\"]\n",
    "classi = [\"guerriero\",\"mago\",\"ranger\",\"ladro\",\"chierico\"]\n",
    "armi = [\"spada\",\"arco\",\"bachetta magica\",\"ascia\",\"daga\"]\n",
    "abilita =[\"furtivita\",\"magia dell'acqua\",\"camuffamento\",\"estrazione mineraria\",\"incantesimi di guarigione\"]\n",
    "\n",
    "specie = random.choice(speci)\n",
    "classe = random.choice(classi)\n",
    "arma = random.choice(armi)\n",
    "abilita_scelta = random.sample(abilita, random.randint(1, 3))\n",
    "\n",
    "print(f\"personaggio fantasy generato:\")\n",
    "print(f\"specie:{specie}\")\n",
    "print(f\"classe:{classe}\")\n",
    "print(f\"arma:{arma}\")\n",
    "print(f\"abilità: {','.join(abilita_scelta)}\")"
   ]
  },
  {
   "cell_type": "code",
   "execution_count": null,
   "id": "80b77f75",
   "metadata": {},
   "outputs": [],
   "source": []
  }
 ],
 "metadata": {
  "kernelspec": {
   "display_name": "Python 3 (ipykernel)",
   "language": "python",
   "name": "python3"
  },
  "language_info": {
   "codemirror_mode": {
    "name": "ipython",
    "version": 3
   },
   "file_extension": ".py",
   "mimetype": "text/x-python",
   "name": "python",
   "nbconvert_exporter": "python",
   "pygments_lexer": "ipython3",
   "version": "3.11.5"
  }
 },
 "nbformat": 4,
 "nbformat_minor": 5
}
